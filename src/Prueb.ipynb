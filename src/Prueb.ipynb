{
 "cells": [
  {
   "cell_type": "code",
   "execution_count": 5,
   "metadata": {},
   "outputs": [],
   "source": [
    "#import tensorflow as tf\n",
    "import numpy as np\n",
    "#import matplotlib.pyplot as plt\n",
    "import pandas as pd"
   ]
  },
  {
   "cell_type": "code",
   "execution_count": 7,
   "metadata": {},
   "outputs": [
    {
     "data": {
      "text/html": [
       "<div>\n",
       "<style scoped>\n",
       "    .dataframe tbody tr th:only-of-type {\n",
       "        vertical-align: middle;\n",
       "    }\n",
       "\n",
       "    .dataframe tbody tr th {\n",
       "        vertical-align: top;\n",
       "    }\n",
       "\n",
       "    .dataframe thead th {\n",
       "        text-align: right;\n",
       "    }\n",
       "</style>\n",
       "<table border=\"1\" class=\"dataframe\">\n",
       "  <thead>\n",
       "    <tr style=\"text-align: right;\">\n",
       "      <th></th>\n",
       "      <th>log_hash</th>\n",
       "      <th>time</th>\n",
       "      <th>posid</th>\n",
       "      <th>seqid</th>\n",
       "      <th>wcdma_aset_ecio_avg</th>\n",
       "      <th>wcdma_aset_rscp_avg</th>\n",
       "      <th>wcdma_txagc</th>\n",
       "      <th>wcdma_bler_average_percent_all_channels</th>\n",
       "      <th>wcdma_rssi</th>\n",
       "      <th>gsm_speechcodecrx</th>\n",
       "      <th>mos</th>\n",
       "      <th>wav_silent_percent</th>\n",
       "    </tr>\n",
       "  </thead>\n",
       "  <tbody>\n",
       "    <tr>\n",
       "      <th>0</th>\n",
       "      <td>326425006476197621</td>\n",
       "      <td>2019-05-07 12:00:44</td>\n",
       "      <td>7833.0</td>\n",
       "      <td>3756532.0</td>\n",
       "      <td>-4.106082</td>\n",
       "      <td>-63.318151</td>\n",
       "      <td>-28.260111</td>\n",
       "      <td>0.0</td>\n",
       "      <td>-59.212069</td>\n",
       "      <td>4.5</td>\n",
       "      <td>4.1605</td>\n",
       "      <td>NaN</td>\n",
       "    </tr>\n",
       "    <tr>\n",
       "      <th>1</th>\n",
       "      <td>326425006476197621</td>\n",
       "      <td>2019-05-07 12:00:52</td>\n",
       "      <td>7841.0</td>\n",
       "      <td>3760832.0</td>\n",
       "      <td>-4.854717</td>\n",
       "      <td>-63.188050</td>\n",
       "      <td>-27.902778</td>\n",
       "      <td>0.0</td>\n",
       "      <td>-58.333333</td>\n",
       "      <td>4.5</td>\n",
       "      <td>4.1033</td>\n",
       "      <td>NaN</td>\n",
       "    </tr>\n",
       "    <tr>\n",
       "      <th>2</th>\n",
       "      <td>326425006476197621</td>\n",
       "      <td>2019-05-07 12:01:05</td>\n",
       "      <td>7855.0</td>\n",
       "      <td>3767843.0</td>\n",
       "      <td>-4.376622</td>\n",
       "      <td>-63.153288</td>\n",
       "      <td>-27.640286</td>\n",
       "      <td>0.0</td>\n",
       "      <td>-58.776667</td>\n",
       "      <td>4.5</td>\n",
       "      <td>4.1652</td>\n",
       "      <td>NaN</td>\n",
       "    </tr>\n",
       "    <tr>\n",
       "      <th>3</th>\n",
       "      <td>326425006476197621</td>\n",
       "      <td>2019-05-07 12:01:18</td>\n",
       "      <td>7867.0</td>\n",
       "      <td>3774930.0</td>\n",
       "      <td>-4.460372</td>\n",
       "      <td>-62.534510</td>\n",
       "      <td>-29.934706</td>\n",
       "      <td>0.0</td>\n",
       "      <td>-58.074138</td>\n",
       "      <td>4.5</td>\n",
       "      <td>4.1988</td>\n",
       "      <td>NaN</td>\n",
       "    </tr>\n",
       "    <tr>\n",
       "      <th>4</th>\n",
       "      <td>326425006476283968</td>\n",
       "      <td>2019-05-08 12:01:52</td>\n",
       "      <td>7952.0</td>\n",
       "      <td>2368034.0</td>\n",
       "      <td>-11.586009</td>\n",
       "      <td>-94.182500</td>\n",
       "      <td>6.421125</td>\n",
       "      <td>0.0</td>\n",
       "      <td>-82.596491</td>\n",
       "      <td>4.5</td>\n",
       "      <td>4.1442</td>\n",
       "      <td>56.248712</td>\n",
       "    </tr>\n",
       "  </tbody>\n",
       "</table>\n",
       "</div>"
      ],
      "text/plain": [
       "             log_hash                 time   posid      seqid  \\\n",
       "0  326425006476197621  2019-05-07 12:00:44  7833.0  3756532.0   \n",
       "1  326425006476197621  2019-05-07 12:00:52  7841.0  3760832.0   \n",
       "2  326425006476197621  2019-05-07 12:01:05  7855.0  3767843.0   \n",
       "3  326425006476197621  2019-05-07 12:01:18  7867.0  3774930.0   \n",
       "4  326425006476283968  2019-05-08 12:01:52  7952.0  2368034.0   \n",
       "\n",
       "   wcdma_aset_ecio_avg  wcdma_aset_rscp_avg  wcdma_txagc  \\\n",
       "0            -4.106082           -63.318151   -28.260111   \n",
       "1            -4.854717           -63.188050   -27.902778   \n",
       "2            -4.376622           -63.153288   -27.640286   \n",
       "3            -4.460372           -62.534510   -29.934706   \n",
       "4           -11.586009           -94.182500     6.421125   \n",
       "\n",
       "   wcdma_bler_average_percent_all_channels  wcdma_rssi  gsm_speechcodecrx  \\\n",
       "0                                      0.0  -59.212069                4.5   \n",
       "1                                      0.0  -58.333333                4.5   \n",
       "2                                      0.0  -58.776667                4.5   \n",
       "3                                      0.0  -58.074138                4.5   \n",
       "4                                      0.0  -82.596491                4.5   \n",
       "\n",
       "      mos  wav_silent_percent  \n",
       "0  4.1605                 NaN  \n",
       "1  4.1033                 NaN  \n",
       "2  4.1652                 NaN  \n",
       "3  4.1988                 NaN  \n",
       "4  4.1442           56.248712  "
      ]
     },
     "execution_count": 7,
     "metadata": {},
     "output_type": "execute_result"
    }
   ],
   "source": [
    "mos_csv = pd.read_csv(\"./wcdma_DataEntre.csv\")\n",
    "mos_csv.head()"
   ]
  },
  {
   "cell_type": "code",
   "execution_count": 9,
   "metadata": {},
   "outputs": [
    {
     "name": "stdout",
     "output_type": "stream",
     "text": [
      "<class 'pandas.core.frame.DataFrame'>\n",
      "RangeIndex: 6022 entries, 0 to 6021\n",
      "Data columns (total 12 columns):\n",
      " #   Column                                   Non-Null Count  Dtype  \n",
      "---  ------                                   --------------  -----  \n",
      " 0   log_hash                                 6022 non-null   int64  \n",
      " 1   time                                     6022 non-null   object \n",
      " 2   posid                                    3270 non-null   float64\n",
      " 3   seqid                                    3270 non-null   float64\n",
      " 4   wcdma_aset_ecio_avg                      6022 non-null   float64\n",
      " 5   wcdma_aset_rscp_avg                      6022 non-null   float64\n",
      " 6   wcdma_txagc                              6022 non-null   float64\n",
      " 7   wcdma_bler_average_percent_all_channels  6022 non-null   float64\n",
      " 8   wcdma_rssi                               6022 non-null   float64\n",
      " 9   gsm_speechcodecrx                        6022 non-null   float64\n",
      " 10  mos                                      6022 non-null   float64\n",
      " 11  wav_silent_percent                       483 non-null    float64\n",
      "dtypes: float64(10), int64(1), object(1)\n",
      "memory usage: 564.7+ KB\n"
     ]
    }
   ],
   "source": [
    "mos_csv.info()"
   ]
  },
  {
   "cell_type": "code",
   "execution_count": 10,
   "metadata": {},
   "outputs": [],
   "source": [
    "total_data = mos_csv.copy()"
   ]
  },
  {
   "cell_type": "code",
   "execution_count": null,
   "metadata": {},
   "outputs": [],
   "source": [
    "total__data = total_data['log_hash', 'time', 'posid', 's']"
   ]
  },
  {
   "cell_type": "code",
   "execution_count": null,
   "metadata": {},
   "outputs": [],
   "source": [
    "selected_measurements = ['wcdma_aset_ecio_avg', 'wcdma_aset_rscp_avg', 'wcdma_txagc', 'wcdma_bler_average_percent_all_channels','gsm_speechcodecrx']\n",
    "selected_output = [ 'mos']\n",
    "#estos son los Valore del Entrenamiento'\n",
    "datos_entrada = mos_csv[selected_measurements]\n",
    "mos_output = mos_csv[selected_output]"
   ]
  },
  {
   "cell_type": "code",
   "execution_count": null,
   "metadata": {},
   "outputs": [],
   "source": []
  },
  {
   "cell_type": "code",
   "execution_count": null,
   "metadata": {},
   "outputs": [],
   "source": []
  },
  {
   "cell_type": "code",
   "execution_count": null,
   "metadata": {},
   "outputs": [],
   "source": []
  },
  {
   "cell_type": "code",
   "execution_count": null,
   "metadata": {},
   "outputs": [],
   "source": []
  },
  {
   "cell_type": "code",
   "execution_count": null,
   "metadata": {},
   "outputs": [],
   "source": []
  },
  {
   "cell_type": "code",
   "execution_count": null,
   "metadata": {},
   "outputs": [],
   "source": []
  },
  {
   "cell_type": "code",
   "execution_count": null,
   "metadata": {},
   "outputs": [],
   "source": []
  },
  {
   "cell_type": "code",
   "execution_count": null,
   "metadata": {},
   "outputs": [],
   "source": []
  }
 ],
 "metadata": {
  "kernelspec": {
   "display_name": "Python (Codespace Global)",
   "language": "python",
   "name": "codespace_global"
  },
  "language_info": {
   "codemirror_mode": {
    "name": "ipython",
    "version": 3
   },
   "file_extension": ".py",
   "mimetype": "text/x-python",
   "name": "python",
   "nbconvert_exporter": "python",
   "pygments_lexer": "ipython3",
   "version": "3.11.4"
  }
 },
 "nbformat": 4,
 "nbformat_minor": 2
}
